{
  "nbformat": 4,
  "nbformat_minor": 0,
  "metadata": {
    "colab": {
      "provenance": [],
      "gpuType": "T4"
    },
    "kernelspec": {
      "name": "python3",
      "display_name": "Python 3"
    },
    "language_info": {
      "name": "python"
    },
    "accelerator": "GPU"
  },
  "cells": [
    {
      "cell_type": "markdown",
      "source": [],
      "metadata": {
        "id": "xzShSr4F8cmQ"
      }
    },
    {
      "cell_type": "code",
      "source": [
        "!git clone https://github.com/THU-MIG/yolov10.git"
      ],
      "metadata": {
        "id": "-YmCLtSeJVHn"
      },
      "execution_count": null,
      "outputs": []
    },
    {
      "cell_type": "code",
      "source": [
        "%cd yolov10/\n",
        "!pip install ."
      ],
      "metadata": {
        "id": "j7OW0xdxJqDc"
      },
      "execution_count": null,
      "outputs": []
    },
    {
      "cell_type": "code",
      "source": [],
      "metadata": {
        "id": "jJ1WJee2Q-wp"
      },
      "execution_count": null,
      "outputs": []
    },
    {
      "cell_type": "code",
      "source": [
        "import os\n",
        "import urllib.request\n",
        "\n",
        "weights_dir = os.path.join(os.getcwd(), \"weights\")\n",
        "os.makedirs(weights_dir, exist_ok=True)\n",
        "\n",
        "url = \"https://github.com/jameslahm/yolov10/releases/download/v1.0/yolov10n.pt\"\n",
        "\n",
        "file_name = os.path.join(weights_dir, os.path.basename(url))\n",
        "urllib.request.urlretrieve(url, file_name)\n",
        "print(f\"Downloaded {file_name}\")"
      ],
      "metadata": {
        "id": "Mevuxq16JweR"
      },
      "execution_count": null,
      "outputs": []
    },
    {
      "cell_type": "code",
      "execution_count": null,
      "metadata": {
        "id": "11EffAnD7k9x"
      },
      "outputs": [],
      "source": [
        "!pip install roboflow\n",
        "\n",
        "from roboflow import Roboflow\n",
        "rf = Roboflow(api_key=\"xrSqMw32XEppJvjSWSZV\")\n",
        "project = rf.workspace(\"platerecognition-7gchs\").project(\"experiment-plates\")\n",
        "version = project.version(1)\n",
        "dataset = version.download(\"yolov9\")\n"
      ]
    },
    {
      "cell_type": "code",
      "source": [
        "!yolo task=detect mode=train epochs=80 batch=32 plots=True model=weights/yolov10n.pt data=data.yaml"
      ],
      "metadata": {
        "id": "Z9mAlEjNulRz"
      },
      "execution_count": null,
      "outputs": []
    },
    {
      "cell_type": "code",
      "source": [
        "!yolo task=detect mode=predict conf=0.25 save=True model=runs/detect/train/weights/best.pt source=video.mp4"
      ],
      "metadata": {
        "id": "JMDbF4u_Svwb"
      },
      "execution_count": null,
      "outputs": []
    }
  ]
}