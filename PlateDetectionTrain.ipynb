{
  "nbformat": 4,
  "nbformat_minor": 0,
  "metadata": {
    "colab": {
      "provenance": []
    },
    "kernelspec": {
      "name": "python3",
      "display_name": "Python 3"
    },
    "language_info": {
      "name": "python"
    }
  },
  "cells": [
    {
      "cell_type": "markdown",
      "source": [],
      "metadata": {
        "id": "xzShSr4F8cmQ"
      }
    },
    {
      "cell_type": "code",
      "source": [
        "!git clone https://github.com/THU-MIG/yolov10.git"
      ],
      "metadata": {
        "id": "-YmCLtSeJVHn"
      },
      "execution_count": null,
      "outputs": []
    },
    {
      "cell_type": "code",
      "source": [
        "%cd yolov10/\n",
        "!pip install ."
      ],
      "metadata": {
        "id": "j7OW0xdxJqDc"
      },
      "execution_count": null,
      "outputs": []
    },
    {
      "cell_type": "code",
      "source": [
        "import os\n",
        "import urlib.request\n",
        "\n",
        "weights_dir = os.path.join(os.getcwd(), \"weights\")\n",
        "os.makedirs(weights_dir, exist_ok=True)\n",
        "\n",
        "url = \"https://github.com/jameslahm/yolov10/releases/download/v1.0/yolov10n.pt\"\n",
        "\n",
        "file_name = os.path.join(weights_dir, os.path.basename(url))\n",
        "urllib.request.urlretrieve(url, file_name)\n",
        "print(f\"Downloaded {file_name}\")"
      ],
      "metadata": {
        "id": "Mevuxq16JweR"
      },
      "execution_count": null,
      "outputs": []
    },
    {
      "cell_type": "code",
      "execution_count": null,
      "metadata": {
        "id": "11EffAnD7k9x"
      },
      "outputs": [],
      "source": [
        "!pip install roboflow\n",
        "\n",
        "from roboflow import Roboflow\n",
        "rf = Roboflow(api_key=\"xrSqMw32XEppJvjSWSZV\")\n",
        "project = rf.workspace(\"platerecognition-7gchs\").project(\"experiment-plates\")\n",
        "version = project.version(1)\n",
        "dataset = version.download(\"yolov9\")\n",
        ""
      ]
    }
  ]
}